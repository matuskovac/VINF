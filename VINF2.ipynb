{
 "cells": [
  {
   "cell_type": "code",
   "execution_count": 1,
   "metadata": {},
   "outputs": [],
   "source": [
    "import pandas as pd\n",
    "import scipy as sc\n",
    "from scipy.sparse import *\n",
    "import numpy as np\n",
    "from sklearn.neighbors import NearestNeighbors\n",
    "import time\n",
    "import pickle\n",
    "import csv\n",
    "import sklearn"
   ]
  },
  {
   "cell_type": "code",
   "execution_count": null,
   "metadata": {},
   "outputs": [],
   "source": [
    "#dont run anytime\n",
    "\n",
    "df1 = pd.read_csv('events_train.csv', low_memory=False)\n",
    "df2 = pd.read_csv('purchases_train.csv', low_memory=False)\n",
    "frames = [df1, df2]\n",
    "merged = pd.concat(frames)\n",
    "merged = merged.sort_values('timestamp')\n",
    "merged.to_csv('sorted.csv', index=False)"
   ]
  },
  {
   "cell_type": "code",
   "execution_count": 2,
   "metadata": {},
   "outputs": [],
   "source": [
    "df1 = pd.read_csv('sorted.csv', low_memory=False)\n",
    "df1.loc[df1['event_type'] == 'view_item', 'event_type'] = 1\n",
    "df1.loc[df1['event_type'] == 'purchase_item', 'event_type'] = 3"
   ]
  },
  {
   "cell_type": "code",
   "execution_count": 3,
   "metadata": {},
   "outputs": [],
   "source": [
    "customers_dict={}\n",
    "reverse_customers_dict={}\n",
    "customer_counter=0\n",
    "\n",
    "for index, row in enumerate(df1.customer_id.unique()):\n",
    "    customers_dict[row] = index\n",
    "    reverse_customers_dict[index]= row\n",
    "\n",
    "users=df1.customer_id.values\n",
    "for index,row in enumerate(users):\n",
    "        users[index]=customers_dict.get(users[index])  "
   ]
  },
  {
   "cell_type": "code",
   "execution_count": 4,
   "metadata": {},
   "outputs": [],
   "source": [
    "products_dict={}\n",
    "reverse_products_dict={}\n",
    "product_counter=0\n",
    "\n",
    "for index, row in enumerate(df1.product_id.unique()):\n",
    "    products_dict[row] = index\n",
    "    reverse_products_dict[index]=row\n",
    "\n",
    "products=df1.product_id.values\n",
    "for index,row in enumerate(products):\n",
    "        products[index]=products_dict.get(products[index])"
   ]
  },
  {
   "cell_type": "code",
   "execution_count": 5,
   "metadata": {},
   "outputs": [],
   "source": [
    "matrix = csr_matrix((df1.event_type.values, (df1.customer_id.values, df1.product_id.values)))"
   ]
  },
  {
   "cell_type": "code",
   "execution_count": 6,
   "metadata": {},
   "outputs": [],
   "source": [
    "with open('vi_challenge_uID.csv') as f:\n",
    "    content = f.readlines()\n",
    "content = [x.strip() for x in content] "
   ]
  },
  {
   "cell_type": "code",
   "execution_count": 7,
   "metadata": {},
   "outputs": [
    {
     "name": "stdout",
     "output_type": "stream",
     "text": [
      "850\n",
      "150\n"
     ]
    }
   ],
   "source": [
    "usersdf2= content\n",
    "users_to_generate=[]\n",
    "new_users=[]\n",
    "for index,row in enumerate(usersdf2):\n",
    "    new_index=customers_dict.get(usersdf2[index])\n",
    "    if new_index == None:\n",
    "        new_users.append(row)\n",
    "    else:\n",
    "        users_to_generate.append(new_index)\n",
    "test_customers = users_to_generate\n",
    "print(len(test_customers))\n",
    "print(len(new_users))"
   ]
  },
  {
   "cell_type": "code",
   "execution_count": 8,
   "metadata": {},
   "outputs": [],
   "source": [
    "pocet_podobnych_pouzivatelov=5"
   ]
  },
  {
   "cell_type": "code",
   "execution_count": 9,
   "metadata": {},
   "outputs": [
    {
     "name": "stdout",
     "output_type": "stream",
     "text": [
      "71.01942253112793\n",
      "(array([[ 0.        ,  5.83095189,  6.        ,  6.244998  ,  6.55743852],\n",
      "       [ 0.        ,  7.87400787,  8.        ,  8.        ,  8.        ],\n",
      "       [ 0.        ,  1.73205081,  2.        ,  2.        ,  2.        ],\n",
      "       ...,\n",
      "       [ 0.        ,  1.73205081,  1.73205081,  1.73205081,  1.73205081],\n",
      "       [ 0.        ,  0.        ,  1.        ,  1.        ,  1.        ],\n",
      "       [ 0.        , 15.77973384, 17.52141547, 17.80449381, 18.05547009]]), array([[1986410, 1834471, 2186012, 1771292, 1863765],\n",
      "       [ 811899, 1218948,  806525, 1058304, 1316331],\n",
      "       [ 634162,  761372, 1132893, 2068092,  373243],\n",
      "       ...,\n",
      "       [1909128,  423955,  469775, 1987241,  552171],\n",
      "       [1012394,  998461,  924398,  994762, 1032861],\n",
      "       [1711461, 1623881, 1501302, 1122323,   47176]], dtype=int64))\n"
     ]
    }
   ],
   "source": [
    "neigh = NearestNeighbors(n_neighbors=pocet_podobnych_pouzivatelov)\n",
    "neigh.fit(matrix)\n",
    "start = time.time()\n",
    "knn=neigh.kneighbors(matrix[test_customers])\n",
    "end = time.time()\n",
    "print(end - start)\n",
    "print(knn)"
   ]
  },
  {
   "cell_type": "code",
   "execution_count": 10,
   "metadata": {},
   "outputs": [],
   "source": [
    "top_products_dict={}\n",
    "\n",
    "for index, row in enumerate(df1.product_id.unique()):\n",
    "    top_products_dict[row] = 0\n",
    "\n",
    "products=df1.product_id.values\n",
    "for index,row in enumerate(products):\n",
    "        top_products_dict[row]+=1\n",
    "top_products_dict=sorted(top_products_dict, key=top_products_dict.__getitem__, reverse = True)\n",
    "top_products_dict=top_products_dict[:10]\n",
    "\n",
    "top_productsID=[]\n",
    "for product in top_products_dict:\n",
    "    top_productsID.append(reverse_products_dict[product])"
   ]
  },
  {
   "cell_type": "code",
   "execution_count": 11,
   "metadata": {},
   "outputs": [
    {
     "name": "stdout",
     "output_type": "stream",
     "text": [
      "[['customer_id', 'product_id']]\n"
     ]
    }
   ],
   "source": [
    "dataTocsv = []\n",
    "a='customer_id'\n",
    "b='product_id'\n",
    "dataTocsv.append([a,b])\n",
    "print(dataTocsv)"
   ]
  },
  {
   "cell_type": "code",
   "execution_count": 12,
   "metadata": {},
   "outputs": [],
   "source": [
    "number_of_product_to_recomended=10\n",
    "\n",
    "for index, test_customer in enumerate(test_customers):\n",
    "    to_recomend=[]\n",
    "    torecomend_dict={}\n",
    "    zipped=zip(knn[0][index],knn[1][index])\n",
    "    last_similarity=-1\n",
    "    weight_of_user=pocet_podobnych_pouzivatelov*2\n",
    "    \n",
    "    for similarity,indicies in zipped:\n",
    "        if last_similarity==-1:\n",
    "            last_similarity=similarity\n",
    "        if similarity!=last_similarity:\n",
    "            weight_of_user -= 2\n",
    "            last_similarity = similarity\n",
    "        nieco = matrix[indicies].toarray().nonzero()[1]\n",
    "        \n",
    "        for product in nieco:\n",
    "                to_recomend.append(product)\n",
    "                if product in torecomend_dict:                \n",
    "                    torecomend_dict[product]+=matrix[indicies,product]*weight_of_user\n",
    "                else:\n",
    "                    torecomend_dict[product]=matrix[indicies,product]*weight_of_user\n",
    "\n",
    "    recomended=sorted(torecomend_dict, key=torecomend_dict.__getitem__, reverse = True)\n",
    "    recomendsID=[]\n",
    "    \n",
    "    for index,item in enumerate(recomended):\n",
    "        if index>= 10:        \n",
    "            break  \n",
    "        recomendsID.append(reverse_products_dict[item])\n",
    "        dataTocsv.append([reverse_customers_dict[test_customer],reverse_products_dict[item]])\n",
    "\n",
    "    if len(recomendsID)<=10:\n",
    "        pocet=10-len(recomendsID)\n",
    "        for i in range(pocet):\n",
    "            dataTocsv.append([reverse_customers_dict[test_customer],top_productsID[i]])"
   ]
  },
  {
   "cell_type": "code",
   "execution_count": 13,
   "metadata": {},
   "outputs": [],
   "source": [
    "for user in new_users:\n",
    "    for index in range(10):\n",
    "        dataTocsv.append([user,top_productsID[index]])"
   ]
  },
  {
   "cell_type": "code",
   "execution_count": 14,
   "metadata": {},
   "outputs": [],
   "source": [
    "with open(\"submission36.csv\", \"w\", newline=\"\") as f:\n",
    "    writer = csv.writer(f)\n",
    "    writer.writerows(dataTocsv)"
   ]
  },
  {
   "cell_type": "code",
   "execution_count": null,
   "metadata": {},
   "outputs": [],
   "source": []
  }
 ],
 "metadata": {
  "kernelspec": {
   "display_name": "Python 3",
   "language": "python",
   "name": "python3"
  },
  "language_info": {
   "codemirror_mode": {
    "name": "ipython",
    "version": 3
   },
   "file_extension": ".py",
   "mimetype": "text/x-python",
   "name": "python",
   "nbconvert_exporter": "python",
   "pygments_lexer": "ipython3",
   "version": "3.7.4"
  }
 },
 "nbformat": 4,
 "nbformat_minor": 2
}
